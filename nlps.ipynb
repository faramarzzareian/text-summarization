{
 "cells": [
  {
   "cell_type": "code",
   "execution_count": 1,
   "metadata": {},
   "outputs": [],
   "source": [
    "import numpy as np\n",
    "import pandas as pd\n",
    "from bs4 import BeautifulSoup\n",
    "import nltk\n",
    "import os\n",
    "import re\n",
    "import string\n",
    "import urllib.request\n",
    "from nltk.corpus import stopwords\n",
    "from nltk.tokenize import word_tokenize, sent_tokenize\n",
    "from string import punctuation\n",
    "from heapq import nlargest\n",
    "import networkx as nx\n",
    "from sklearn.metrics.pairwise import cosine_similarity\n",
    "import matplotlib.pyplot as plt\n",
    "from collections import defaultdict\n",
    "import string\n",
    "from nltk.stem.wordnet import WordNetLemmatizer\n",
    "glovef=\"glove.6B.300d.txt\"\n",
    "import random"
   ]
  },
  {
   "cell_type": "code",
   "execution_count": 2,
   "metadata": {},
   "outputs": [
    {
     "data": {
      "text/html": [
       "<div>\n",
       "<style scoped>\n",
       "    .dataframe tbody tr th:only-of-type {\n",
       "        vertical-align: middle;\n",
       "    }\n",
       "\n",
       "    .dataframe tbody tr th {\n",
       "        vertical-align: top;\n",
       "    }\n",
       "\n",
       "    .dataframe thead th {\n",
       "        text-align: right;\n",
       "    }\n",
       "</style>\n",
       "<table border=\"1\" class=\"dataframe\">\n",
       "  <thead>\n",
       "    <tr style=\"text-align: right;\">\n",
       "      <th></th>\n",
       "      <th>transcript</th>\n",
       "      <th>url</th>\n",
       "    </tr>\n",
       "  </thead>\n",
       "  <tbody>\n",
       "    <tr>\n",
       "      <td>0</td>\n",
       "      <td>Good morning. How are you?(Laughter)It's been ...</td>\n",
       "      <td>https://www.ted.com/talks/ken_robinson_says_sc...</td>\n",
       "    </tr>\n",
       "    <tr>\n",
       "      <td>1</td>\n",
       "      <td>Thank you so much, Chris. And it's truly a gre...</td>\n",
       "      <td>https://www.ted.com/talks/al_gore_on_averting_...</td>\n",
       "    </tr>\n",
       "    <tr>\n",
       "      <td>2</td>\n",
       "      <td>(Music: \"The Sound of Silence,\" Simon &amp; Garfun...</td>\n",
       "      <td>https://www.ted.com/talks/david_pogue_says_sim...</td>\n",
       "    </tr>\n",
       "    <tr>\n",
       "      <td>3</td>\n",
       "      <td>If you're here today — and I'm very happy that...</td>\n",
       "      <td>https://www.ted.com/talks/majora_carter_s_tale...</td>\n",
       "    </tr>\n",
       "    <tr>\n",
       "      <td>4</td>\n",
       "      <td>About 10 years ago, I took on the task to teac...</td>\n",
       "      <td>https://www.ted.com/talks/hans_rosling_shows_t...</td>\n",
       "    </tr>\n",
       "  </tbody>\n",
       "</table>\n",
       "</div>"
      ],
      "text/plain": [
       "                                          transcript  \\\n",
       "0  Good morning. How are you?(Laughter)It's been ...   \n",
       "1  Thank you so much, Chris. And it's truly a gre...   \n",
       "2  (Music: \"The Sound of Silence,\" Simon & Garfun...   \n",
       "3  If you're here today — and I'm very happy that...   \n",
       "4  About 10 years ago, I took on the task to teac...   \n",
       "\n",
       "                                                 url  \n",
       "0  https://www.ted.com/talks/ken_robinson_says_sc...  \n",
       "1  https://www.ted.com/talks/al_gore_on_averting_...  \n",
       "2  https://www.ted.com/talks/david_pogue_says_sim...  \n",
       "3  https://www.ted.com/talks/majora_carter_s_tale...  \n",
       "4  https://www.ted.com/talks/hans_rosling_shows_t...  "
      ]
     },
     "execution_count": 2,
     "metadata": {},
     "output_type": "execute_result"
    }
   ],
   "source": [
    "df = pd.read_csv (r'transcripts.csv')\n",
    "#df=\"The two most likely largest inventions of our generation are the Internet and the mobile phone. They've changed the world. However, largely to our surprise, they also turned out to be the perfect tools for the surveillance state. It turned out that the capability to collect data, information and connections about basically any of us and all of us is exactly what we've been hearing throughout of the summer through revelations and leaks about Western intelligence agencies, mostly U.S. intelligence agencies, watching over the rest of the world.\"\n",
    "lemmatizer = WordNetLemmatizer()\n",
    "stopword = set(stopwords.words('english'))\n",
    "excluder = set(string.punctuation)\n",
    "wordembd ={}\n",
    "df.shape\n",
    "df.head()\n"
   ]
  },
  {
   "cell_type": "code",
   "execution_count": 3,
   "metadata": {},
   "outputs": [
    {
     "name": "stdout",
     "output_type": "stream",
     "text": [
      "2467  speeches are available to summarize\n"
     ]
    }
   ],
   "source": [
    "print( len(df.transcript), \" speeches are available to summarize\")"
   ]
  },
  {
   "cell_type": "code",
   "execution_count": 4,
   "metadata": {},
   "outputs": [
    {
     "name": "stdout",
     "output_type": "stream",
     "text": [
      "Loading Glove Model\n",
      "Done. 400000  vocabularies loaded!\n"
     ]
    }
   ],
   "source": [
    "print(\"Loading Glove Model\")\n",
    "f = open(glovef, encoding=\"utf8\")\n",
    "model = {}\n",
    "for line in f:\n",
    "    splitLine = line.split()\n",
    "    word = splitLine[0] #it takes a word\n",
    "    embedding = np.asarray(splitLine[1:], dtype='float32') #it shows the taken words word-word co-occurrence matrix values.\n",
    "    model[word] = embedding # so we have our model of word embeddings\n",
    "print(\"Done.\",len(model),\" vocabularies loaded!\")\n"
   ]
  },
  {
   "cell_type": "code",
   "execution_count": 5,
   "metadata": {},
   "outputs": [
    {
     "name": "stdout",
     "output_type": "stream",
     "text": [
      "2\n",
      "2\n"
     ]
    }
   ],
   "source": [
    "y=int(input())\n",
    "print(y)"
   ]
  },
  {
   "cell_type": "code",
   "execution_count": 6,
   "metadata": {},
   "outputs": [
    {
     "name": "stdout",
     "output_type": "stream",
     "text": [
      "{0: 1302, 1: 2268}\n"
     ]
    }
   ],
   "source": [
    "b={}\n",
    "l=len(df.transcript)\n",
    "for i in range (y):\n",
    "    R=random.randint(0,l)\n",
    "    b[i]=R\n",
    "print(b)"
   ]
  },
  {
   "cell_type": "code",
   "execution_count": 7,
   "metadata": {
    "scrolled": false
   },
   "outputs": [
    {
     "name": "stdout",
     "output_type": "stream",
     "text": [
      "[[0.         0.         0.         ... 0.         0.         0.        ]\n",
      " [0.         0.         0.84817861 ... 0.85062426 0.83514745 0.        ]\n",
      " [0.         0.84817861 0.         ... 0.85328787 0.71182499 0.        ]\n",
      " ...\n",
      " [0.         0.85062426 0.85328787 ... 0.         0.85423795 0.        ]\n",
      " [0.         0.83514745 0.71182499 ... 0.85423795 0.         0.        ]\n",
      " [0.         0.         0.         ... 0.         0.         0.        ]]\n",
      "/////////////////////////////////  Original speech number 1\n",
      "/////////////////////////////////  Original speech number 1\n",
      "Sydney. I had been waiting my whole life to get to Sydney. I got to the airport, to the hotel, checked in, and, sitting there in the lobby, was a brochure for the Sydney Festival. I thumbed through it, and I came across a show called \"Minto: Live.\" The description read: \"The suburban streets of Minto become the stage for performances created by international artists in collaboration with the people of Minto.\"What was this place called Minto? Sydney, as I would learn, is a city of suburbs, and Minto lies southwest, about an hour away. I have to say, it wasn't exactly what I had in mind for my first day down under. I mean, I'd thought about the Harbour Bridge or Bondi Beach, but Minto? But still, I'm a producer, and the lure of a site-specific theater project was more than I could resist. (Laughter)So, off I went into Friday afternoon traffic, and I'll never forget what I saw when I got there. For the performance, the audience walked around the neighborhood from house to house, and the residents, who were the performers, they came out of their houses, and they performed these autobiographical dances on their lawns, on their driveways. (Laughter) The show is a collaboration with a U.K.-based performance company called Lone Twin. Lone Twin had come to Minto and worked with the residents, and they had created these dances.This Australian-Indian girl, she came out and started to dance on her front lawn, and her father peered out the window to see what all the noise and commotion was about, and he soon joined her. And he was followed by her little sister. And soon they were all dancing this joyous, exuberant dance right there on their lawn. (Laughter)And as I walked through the neighborhood, I was amazed and I was moved by the incredible sense of ownership this community clearly felt about this event. \"Minto: Live\" brought Sydneysiders into dialogue with international artists, and really celebrated the diversity of Sydney on its own terms.The Sydney Festival which produced \"Minto: Live\" I think represents a new kind of 21st-century arts festival. These festivals are radically open. They can transform cities and communities.To understand this, I think it kind of makes sense to look where we've come from. Modern arts festivals were born in the rubble of World War II. Civic leaders created these annual events to celebrate culture as the highest expression of the human spirit. In 1947, the Edinburgh Festival was born and Avignon was born and hundreds of others would follow in their wake. The work they did was very, very high art, and stars came along like Laurie Anderson and Merce Cunningham and Robert Lepage who made work for this circuit, and you had these seminal shows like \"The Mahabharata\" and the monumental \"Einstein on the Beach.\"But as the decades passed, these festivals, they really became the establishment, and as the culture and capital accelerated, the Internet brought us all together, high and low kind of disappeared, a new kind of festival emerged.The old festivals, they continued to thrive, but from Brighton to Rio to Perth, something new was emerging, and these festivals were really different. They're open, these festivals, because, like in Minto, they understand that the dialogue between the local and the global is essential. They're open because they ask the audience to be a player, a protagonist, a partner, rather than a passive spectator, and they're open because they know that imagination cannot be contained in buildings, and so much of the work they do is site-specific or outdoor work.So, the new festival, it asks the audience to play an essential role in shaping the performance. Companies like De La Guarda, which I produce, and Punchdrunk create these completely immersive experiences that put the audience at the center of the action, but the German performance company Rimini Protokoll takes this all to a whole new level. In a series of shows that includes \"100 Percent Vancouver,\" \"100 Percent Berlin,\" Rimini Protokoll makes shows that actually reflect society. Rimini Protokoll chooses 100 people that represent that city at that moment in terms of race and gender and class, through a careful process that begins three months before, and then those 100 people share stories about themselves and their lives, and the whole thing becomes a snapshot of that city at that moment. LIFT has always been a pioneer in the use of venues. They understand that theater and performance can happen anywhere. You can do a show in a schoolroom, in an airport, — (Laughter) — in a department store window.Artists are explorers. Who better to show us the city anew? Artists can take us to a far-flung part of the city that we haven't explored, or they can take us into that building that we pass every day but we never went into.An artist, I think, can really show us people that we might overlook in our lives. Back to Back is an Australian company of people with intellectual disabilities. I saw their amazing show in New York at the Staten Island Ferry Terminal at rush hour. We, the audience, were given headsets and seated on one side of the terminal. The actors were right there in front of us, right there among the commuters, and we could hear them, but we might not have otherwise seen them. So Back to Back takes site-specific theater and uses it to gently remind us about who and what we choose to edit out of our daily lives.So, the dialogue with the local and the global, the audience as participant and player and protagonist, the innovative use of site, all of these things come to play in the amazing work of the fantastic French company Royal de Luxe. Royal de Luxe's giant puppets come into a city and they live there for a few days.For \"The Sultan's Elephant,\" Royal de Luxe came to central London and brought it to a standstill with their story of a giant little girl and her friend, a time-traveling elephant. For a few days, they transformed a massive city into a community where endless possibility reigned. The Guardian wrote, \"If art is about transformation, then there can be no more transformative experience. What 'The Sultan's Elephant' represents is no less than an artistic occupation of the city and a reclamation of the streets for the people.\"We can talk about the economic impacts of these festivals on their cities, but I'm much [more] interested in many more things, like how a festival helps a city to express itself, how it lets it come into its own. Festivals promote diversity, they bring neighbors into dialogue, they increase creativity, they offer opportunities for civic pride, they improve our general psychological well-being. In short, they make cities better places to live.Case in point: When \"The Sultan's Elephant\" came to London just nine months after 7/7, a Londoner wrote, \"For the first time since the London bombings, my daughter called up with that sparkle back in her voice. She had gathered with others to watch 'The Sultan's Elephant,' and, you know, it just made all the difference.\" Lyn Gardner in The Guardian has written that a great festival can show us a map of the world, a map of the city and a map of ourselves, but there is no one fixed festival model. I think what's so brilliant about the festivals, the new festivals, is that they are really fully capturing the complexity and the excitement of the way we all live today. Thank you very much. (Applause)\n",
      "/////////////////////////////////  summarized speech number 1\n",
      "/////////////////////////////////  summarized speech number 1\n",
      "Rimini Protokoll chooses 100 people that represent that city at that moment in terms of race and gender and class, through a careful process that begins three months before, and then those 100 people share stories about themselves and their lives, and the whole thing becomes a snapshot of that city at that moment.\n",
      "They're open because they ask the audience to be a player, a protagonist, a partner, rather than a passive spectator, and they're open because they know that imagination cannot be contained in buildings, and so much of the work they do is site-specific or outdoor work.So, the new festival, it asks the audience to play an essential role in shaping the performance.\n",
      "/////////////////////////////////  The end of summarization number 1\n"
     ]
    },
    {
     "name": "stdout",
     "output_type": "stream",
     "text": [
      "[[0.         0.85588103 0.80789171 ... 0.88100751 0.8559006  0.        ]\n",
      " [0.85588103 0.         0.85886516 ... 0.93614196 0.94308004 0.        ]\n",
      " [0.80789171 0.85886516 0.         ... 0.88345342 0.82860964 0.        ]\n",
      " ...\n",
      " [0.88100751 0.93614196 0.88345342 ... 0.         0.93624469 0.        ]\n",
      " [0.8559006  0.94308004 0.82860964 ... 0.93624469 0.         0.        ]\n",
      " [0.         0.         0.         ... 0.         0.         0.        ]]\n",
      "/////////////////////////////////  Original speech number 2\n",
      "/////////////////////////////////  Original speech number 2\n",
      "Tell your daughters of this year, how we woke needing coffee but discovered instead cadavers strewn about our morning papers, waterlogged facsimiles of our sisters, spouses, small children. Say to your baby of this year when she asks, as she certainly should, tell her it was too late coming. Admit even in the year we leased freedom, we didn't own it outright. There were still laws for every way we used our privates while they pawed at the soft folds of us, grabbed with no concern for consent, no laws made for the men that enforced them. We were trained to dodge, to wait, to cower and cover, to wait more, still, wait. We were told to be silent.But speak to your girls of this wartime, a year preceded by a score of the same, so as in two decades before, we wiped our eyes, laced caskets with flags, evacuated the crime scene of the club, caterwauled in the street, laid our bodies on the concrete against the outlines of our fallen, cried, \"Of course we mattered,\" chanted for our disappeared. The women wept this year. They did.In the same year, we were ready. The year we lost our inhibition and moved with courageous abandon was also the year we stared down barrels, sang of cranes in skies, ducked and parried, caught gold in hijab, collected death threats, knew ourselves as patriots, said, \"We're 35 now, time we settled down and found a running mate,\" made road maps for infant joy, shamed nothing but fear, called ourselves fat and meant, of course, impeccable.This year, we were women, not brides or trinkets, not an off-brand gender, not a concession, but women.Instruct your babies. Remind them that the year has passed to be docile or small. Some of us said for the first time that we were women, took this oath of solidarity seriously. Some of us bore children and some of us did not, and none of us questioned whether that made us real or appropriate or true.When she asks you of this year, your daughter, whether your offspring or heir to your triumph, from her comforted side of history teetering towards woman, she will wonder and ask voraciously, though she cannot fathom your sacrifice, she will hold your estimation of it holy, curiously probing, \"Where were you? Did you fight? Were you fearful or fearsome? What colored the walls of your regret? What did you do for women in the year it was time? This path you made for me, which bones had to break? Did you do enough, and are you OK, momma? And are you a hero?\" She will ask the difficult questions.She will not care about the arc of your brow, the weight of your clutch. She will not ask of your mentions. Your daughter, for whom you have already carried so much, wants to know what you brought, what gift, what light did you keep from extinction? When they came for victims in the night, did you sleep through it or were you roused? What was the cost of staying woke? What, in the year we said time's up, what did you do with your privilege? Did you sup on others' squalor? Did you look away or directly into the flame? Did you know your skill or treat it like a liability? Were you fooled by the epithets of \"nasty\" or \"less than\"? Did you teach with an open heart or a clenched fist? Where were you?Tell her the truth. Make it your life. Confirm it. Say, \"Daughter, I stood there with the moment drawn on my face like a dagger, and flung it back at itself, slicing space for you.\" Tell her the truth, how you lived in spite of crooked odds. Tell her you were brave, and always, always in the company of courage, mostly the days when you just had yourself. Tell her she was born as you were, as your mothers before, and the sisters beside them, in the age of legends, like always.Tell her she was born just in time, just in time to lead.(Applause)\n",
      "/////////////////////////////////  summarized speech number 2\n",
      "/////////////////////////////////  summarized speech number 2\n",
      "Tell her you were brave, and always, always in the company of courage, mostly the days when you just had yourself.\n",
      "Some of us bore children and some of us did not, and none of us questioned whether that made us real or appropriate or true.When she asks you of this year, your daughter, whether your offspring or heir to your triumph, from her comforted side of history teetering towards woman, she will wonder and ask voraciously, though she cannot fathom your sacrifice, she will hold your estimation of it holy, curiously probing, \"Where were you?\n",
      "/////////////////////////////////  The end of summarization number 2\n"
     ]
    }
   ],
   "source": [
    "for d in range (0,(y)):\n",
    "    dt=df.transcript[b[d]] \n",
    "    sentences = sent_tokenize(dt)\n",
    "    \n",
    "   \n",
    "    table = str.maketrans('', '', string.punctuation)\n",
    "    stripped = [w.translate(table) for w in sentences]\n",
    "    dim=300\n",
    "    svectors = []\n",
    "    for i in stripped:\n",
    "        if len(i) != 0:\n",
    "            v = sum([model.get(w, np.zeros((dim,))) for w in i.split()])/(len(i.split()))\n",
    "        else:\n",
    "            v = np.zeros((dim,))\n",
    "        svectors.append(v)\n",
    "    \n",
    "    similarity_matrix = np.zeros([len(stripped), len(stripped)])\n",
    "    for i in range(len(sentences)):\n",
    "        for j in range(len(sentences)):\n",
    "            if i != j:\n",
    "                similarity_matrix[i][j] = cosine_similarity(svectors[i].reshape(1,dim),svectors[j].reshape(1,dim))[0,0]\n",
    "    \n",
    "    print(similarity_matrix)\n",
    "    print ('/////////////////////////////////  Original speech number',d+1 )\n",
    "    print ('/////////////////////////////////  Original speech number',d+1 )\n",
    "    print(df.transcript[b[d]])\n",
    "    print ('/////////////////////////////////  summarized speech number',d+1 )\n",
    "    print ('/////////////////////////////////  summarized speech number',d+1 )\n",
    "    nx_graph = nx.from_numpy_array(similarity_matrix)\n",
    "    scores = nx.pagerank(nx_graph)\n",
    "    top = sorted(((scores[i],i) for i,s in enumerate(sentences)), reverse=True) \n",
    "    arranged_sentences = sorted(top[0:2] )\n",
    "    print(\"\\n\".join([sentences[x[1]] for x in arranged_sentences])) \n",
    "    print ('/////////////////////////////////  The end of summarization number',d+1 )\n",
    " "
   ]
  },
  {
   "cell_type": "code",
   "execution_count": null,
   "metadata": {},
   "outputs": [],
   "source": [
    "\n"
   ]
  },
  {
   "cell_type": "code",
   "execution_count": null,
   "metadata": {},
   "outputs": [],
   "source": []
  },
  {
   "cell_type": "code",
   "execution_count": null,
   "metadata": {},
   "outputs": [],
   "source": []
  },
  {
   "cell_type": "code",
   "execution_count": null,
   "metadata": {},
   "outputs": [],
   "source": []
  }
 ],
 "metadata": {
  "kernelspec": {
   "display_name": "Python 3",
   "language": "python",
   "name": "python3"
  },
  "language_info": {
   "codemirror_mode": {
    "name": "ipython",
    "version": 3
   },
   "file_extension": ".py",
   "mimetype": "text/x-python",
   "name": "python",
   "nbconvert_exporter": "python",
   "pygments_lexer": "ipython3",
   "version": "3.7.4"
  }
 },
 "nbformat": 4,
 "nbformat_minor": 2
}
